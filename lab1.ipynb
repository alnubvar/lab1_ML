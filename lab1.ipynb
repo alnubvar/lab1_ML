{
 "cells": [
  {
   "cell_type": "markdown",
   "metadata": {},
   "source": [
    "# Лабораторная работа 1. Exploratory data analysis - EDA\n",
    "\n",
    "## Полезные ссылки\n",
    "\n",
    "**Начало работы**\n",
    "\n",
    "- Anaconda (дистрибутив для Python, содержащий в том числе Jupyter Notebook и сам Python): https://www.anaconda.com/download/\n",
    "- документация по Jupyter: https://jupyter.readthedocs.io/en/latest/\n",
    "- документация по pip (для установки пакетов в Python с помощью pip install): https://pip.readthedocs.io/en/latest/\n",
    "- PyCharm: https://www.jetbrains.com/pycharm/\n",
    "\n",
    "**Общее**\n",
    "\n",
    "- для любых вопросов: https://chat.z.ai/ или https://chat.deepseek.com/\n",
    "- [a professional information and analytical resource dedicated to machine learning, pattern recognition, and data mining](http://www.machinelearning.ru/wiki/index.php?title=%D0%97%D0%B0%D0%B3%D0%BB%D0%B0%D0%B2%D0%BD%D0%B0%D1%8F_%D1%81%D1%82%D1%80%D0%B0%D0%BD%D0%B8%D1%86%D0%B0)\n",
    "- A visual introduction to machine learning: http://www.r2d3.us/visual-intro-to-machine-learning-part-1/\n",
    "\n",
    "**Python & Jupyter**\n",
    "\n",
    "- A Gallery of interesting Jupyter Notebooks: https://github.com/jupyter/jupyter/wiki/A-gallery-of-interesting-Jupyter-Notebooks\n",
    "- Markdown Cheatsheet: https://github.com/adam-p/markdown-here/wiki/Markdown-Cheatsheet\n",
    "\n",
    "**pandas**\n",
    "\n",
    "- документация: http://pandas.pydata.org/pandas-docs/stable/\n",
    "- 10 minutes to pandas: https://pandas.pydata.org/pandas-docs/stable/10min.html\n",
    "- Pandas Tutorial: DataFrames in Python: https://www.datacamp.com/community/tutorials/pandas-tutorial-dataframe-python\n",
    "- Cheet Sheet: https://www.analyticsvidhya.com/blog/2015/07/11-steps-perform-data-analysis-pandas-python/\n",
    "- Visualization: http://pandas.pydata.org/pandas-docs/stable/visualization.html\n",
    "\n",
    "**sklearn**\n",
    "\n",
    "- документация и многое другое: http://scikit-learn.org/stable/\n",
    "\n",
    "**Для построения графиков**\n",
    "\n",
    "- matplotlib: https://matplotlib.org/users/pyplot_tutorial.html\n",
    "- seaborn: http://seaborn.pydata.org/"
   ]
  },
  {
   "cell_type": "markdown",
   "metadata": {},
   "source": [
    "## Задание 1. Гистограммы\n",
    "\n",
    "Прочтите данные из датасета вашего варианта и создайте требуемый новый целевой признак для бинарной классификации (см. второй лист Google-таблицы). Проверьте, правильно ли pandas распознала даты (если они есть).\n",
    "\n",
    "Постройте гистограммы для каждого признака. На одном графике разным цветом отобразите нормированные гистограммы (распределения) для разных классов (в seaborn.histplot за нормированность отвечают параметры stat='probability', common_norm=False). Сделайте выводы, касающиеся целевого признака, из отличия меджду гистограммами разных цветов.\n",
    "\n",
    "## Задание 2. Моды\n",
    "\n",
    "Обычно все гистограммы имеют один максимум. Если на какой либо вашей гистограмме присутствует несколько максимумов, то объясните чем отличаются группы объектов вашего датасета, соответсвующие разным максимумам. Лучшее объяснение - графическое.\n",
    "\n",
    "## Задание 3. Дискретная составляющая количественных признаков\n",
    "\n",
    "Гистограммы количественных признаков с первого взгляда выглядят плавными. Но если капнуть поглубже, то там часто бывает много узких пиков на фоне плавной кривой. Это говорит о смешанной природе признака: у него есть количественная и дискретная компоненты. Выясните есть ли дискретная компонента у ваших признаков и объясните, откуда она взялась отдельно для каждого признака.\n",
    "\n",
    "## Задание 4. Другие графики\n",
    "\n",
    "Постройте разные статистические графики (не менее 10) по вашему датасету, каждый из которых потенциально мог бы пролить свет на факторы, определяющие целевой класс. Нужно чтобы картинки были красивыми, информативными и среди них встречались следующие типы: рассеяния, гистограммы (столбцовые и круговые), «Ящик с усами» (boxplot). Если у вас не хватает фантации, спросите LLM, перечислив в промте описания столбцов вашего датасета. Объясните в комментариях:\n",
    "* как каждый график выявляет (или потенциально мог бы выявить) факторы, влияющие на целевой класс.\n",
    "* какие особенности вашего датасета вы обнаружили"
   ]
  },
  {
   "cell_type": "code",
   "execution_count": null,
   "metadata": {},
   "outputs": [],
   "source": []
  }
 ],
 "metadata": {
  "kernelspec": {
   "display_name": "Python 3 (ipykernel)",
   "language": "python",
   "name": "python3"
  },
  "language_info": {
   "codemirror_mode": {
    "name": "ipython",
    "version": 3
   },
   "file_extension": ".py",
   "mimetype": "text/x-python",
   "name": "python",
   "nbconvert_exporter": "python",
   "pygments_lexer": "ipython3",
   "version": "3.13.2"
  }
 },
 "nbformat": 4,
 "nbformat_minor": 4
}
